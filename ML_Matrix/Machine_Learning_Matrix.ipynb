{
  "nbformat": 4,
  "nbformat_minor": 0,
  "metadata": {
    "colab": {
      "provenance": []
    },
    "kernelspec": {
      "name": "python3",
      "display_name": "Python 3"
    },
    "language_info": {
      "name": "python"
    }
  },
  "cells": [
    {
      "cell_type": "code",
      "source": [
        "import numpy as np\n",
        "\n",
        "A = np.array([[1.1, 1.2, 1.3],\n",
        "              [2.4, 2.5, 2.6],\n",
        "              [3.7, 3.8, 3.9]])\n",
        "\n",
        "B = np.array([[4.1, 4.2, 4.3],\n",
        "              [5.4, 5.5, 5.6],\n",
        "              [6.7, 6.8, 6.9]])"
      ],
      "metadata": {
        "id": "aEx6hNHvEvt5"
      },
      "execution_count": 2,
      "outputs": []
    },
    {
      "cell_type": "code",
      "source": [
        "A @ B"
      ],
      "metadata": {
        "colab": {
          "base_uri": "https://localhost:8080/"
        },
        "id": "ZU0Tm_-bExln",
        "outputId": "65c43a7f-8f2d-4f86-bf6d-17e5ebdf73af"
      },
      "execution_count": 3,
      "outputs": [
        {
          "output_type": "execute_result",
          "data": {
            "text/plain": [
              "array([[19.7 , 20.06, 20.42],\n",
              "       [40.76, 41.51, 42.26],\n",
              "       [61.82, 62.96, 64.1 ]])"
            ]
          },
          "metadata": {},
          "execution_count": 3
        }
      ]
    },
    {
      "cell_type": "code",
      "source": [
        "AB = np.zeros((A.shape[0], B.shape[1]))\n",
        "\n",
        "for i, row in enumerate(A):\n",
        "    for j, column in enumerate(B.T):\n",
        "        AB[i, j] = row.dot(column)\n",
        "\n",
        "AB"
      ],
      "metadata": {
        "colab": {
          "base_uri": "https://localhost:8080/"
        },
        "id": "6wyYWTh-E8c5",
        "outputId": "871a1e51-e809-4a34-c7b4-264400c58d1d"
      },
      "execution_count": 4,
      "outputs": [
        {
          "output_type": "execute_result",
          "data": {
            "text/plain": [
              "array([[19.7 , 20.06, 20.42],\n",
              "       [40.76, 41.51, 42.26],\n",
              "       [61.82, 62.96, 64.1 ]])"
            ]
          },
          "metadata": {},
          "execution_count": 4
        }
      ]
    },
    {
      "cell_type": "code",
      "source": [
        "AB = np.zeros((A.shape[0], B.shape[1]))\n",
        "\n",
        "for i, row in enumerate(A):\n",
        "    AB[i] = row.dot(B)\n",
        "\n",
        "AB"
      ],
      "metadata": {
        "colab": {
          "base_uri": "https://localhost:8080/"
        },
        "id": "e2eDKU_eE-H3",
        "outputId": "f07b8dff-033f-4b0e-a436-ebd50b1a0e46"
      },
      "execution_count": 5,
      "outputs": [
        {
          "output_type": "execute_result",
          "data": {
            "text/plain": [
              "array([[19.7 , 20.06, 20.42],\n",
              "       [40.76, 41.51, 42.26],\n",
              "       [61.82, 62.96, 64.1 ]])"
            ]
          },
          "metadata": {},
          "execution_count": 5
        }
      ]
    },
    {
      "cell_type": "code",
      "source": [
        "AB = np.zeros((A.shape[0], B.shape[1]))\n",
        "\n",
        "for j, column in enumerate(B.T):\n",
        "    AB[:, j] = A.dot(column[:, None]).flatten()\n",
        "\n",
        "AB"
      ],
      "metadata": {
        "colab": {
          "base_uri": "https://localhost:8080/"
        },
        "id": "nuJL438gFFz3",
        "outputId": "2cb7fbe1-b298-4af8-896f-8b206e12efb1"
      },
      "execution_count": 6,
      "outputs": [
        {
          "output_type": "execute_result",
          "data": {
            "text/plain": [
              "array([[19.7 , 20.06, 20.42],\n",
              "       [40.76, 41.51, 42.26],\n",
              "       [61.82, 62.96, 64.1 ]])"
            ]
          },
          "metadata": {},
          "execution_count": 6
        }
      ]
    },
    {
      "cell_type": "code",
      "source": [
        "AB = np.zeros((A.shape[1], B.shape[0]))\n",
        "\n",
        "for column_A, row_B in zip(A.T, B):\n",
        "    AB += column_A[:, None].dot(row_B[None, :])\n",
        "\n",
        "AB"
      ],
      "metadata": {
        "colab": {
          "base_uri": "https://localhost:8080/"
        },
        "id": "pTQqyw8aFFuJ",
        "outputId": "015d788c-0cc0-409b-cd2e-69aa1dc3dc4f"
      },
      "execution_count": 7,
      "outputs": [
        {
          "output_type": "execute_result",
          "data": {
            "text/plain": [
              "array([[19.7 , 20.06, 20.42],\n",
              "       [40.76, 41.51, 42.26],\n",
              "       [61.82, 62.96, 64.1 ]])"
            ]
          },
          "metadata": {},
          "execution_count": 7
        }
      ]
    },
    {
      "cell_type": "code",
      "source": [
        "AB = np.zeros((A.shape[0], B.shape[1]))\n",
        "\n",
        "for column_A, row_B in zip(A.T, B):\n",
        "    AB += np.outer(column_A, row_B)\n",
        "\n",
        "AB"
      ],
      "metadata": {
        "colab": {
          "base_uri": "https://localhost:8080/"
        },
        "id": "hgW6g0AyFLhO",
        "outputId": "89f29b5b-fba3-4bb6-957e-f20ff1ec7938"
      },
      "execution_count": 8,
      "outputs": [
        {
          "output_type": "execute_result",
          "data": {
            "text/plain": [
              "array([[19.7 , 20.06, 20.42],\n",
              "       [40.76, 41.51, 42.26],\n",
              "       [61.82, 62.96, 64.1 ]])"
            ]
          },
          "metadata": {},
          "execution_count": 8
        }
      ]
    },
    {
      "cell_type": "markdown",
      "source": [
        "# Answer"
      ],
      "metadata": {
        "id": "mBoCNp9tHEGS"
      }
    },
    {
      "cell_type": "code",
      "source": [
        "A = np.array([[1.1, 1.2, 1.3, 1.4],\n",
        "              [2.1, 2.2, 2.3, 2.4],\n",
        "              [3.1, 3.2, 3.3, 3.4],\n",
        "              [4.1, 4.2, 4.3, 4.4]])\n",
        "\n",
        "B = np.array([[5.1, 5.2, 5.3, 5.4],\n",
        "              [6.1, 6.2, 6.3, 6.4],\n",
        "              [7.1, 7.2, 7.3, 7.4],\n",
        "              [8.1, 8.2, 8.3, 8.4]])"
      ],
      "metadata": {
        "id": "KKYMCcy2GwFR"
      },
      "execution_count": 9,
      "outputs": []
    },
    {
      "cell_type": "code",
      "source": [
        "A @ B"
      ],
      "metadata": {
        "colab": {
          "base_uri": "https://localhost:8080/"
        },
        "id": "-enFfYZIGxuu",
        "outputId": "40258b4f-2bfb-49e2-ee3b-7a44e2cf239f"
      },
      "execution_count": 10,
      "outputs": [
        {
          "output_type": "execute_result",
          "data": {
            "text/plain": [
              "array([[ 33.5,  34. ,  34.5,  35. ],\n",
              "       [ 59.9,  60.8,  61.7,  62.6],\n",
              "       [ 86.3,  87.6,  88.9,  90.2],\n",
              "       [112.7, 114.4, 116.1, 117.8]])"
            ]
          },
          "metadata": {},
          "execution_count": 10
        }
      ]
    },
    {
      "cell_type": "code",
      "source": [
        "A1, A2 = A[:2, :2], A[:2, 2:]\n",
        "A3, A4 = A[2:, :2], A[2:, 2:]\n",
        "\n",
        "B1, B2 = B[:2, :2], B[:2, 2:]\n",
        "B3, B4 = B[2:, :2], B[2:, 2:]"
      ],
      "metadata": {
        "id": "cLNk7zy6G24r"
      },
      "execution_count": 11,
      "outputs": []
    },
    {
      "cell_type": "code",
      "source": [
        "C1, C2 = A1@B1 + A2@B3, A1@B2 + A2@B4\n",
        "C3, C4 = A3@B1 + A4@B3, A3@B2 + A4@B4"
      ],
      "metadata": {
        "id": "hePiZE3vG4So"
      },
      "execution_count": 12,
      "outputs": []
    },
    {
      "cell_type": "code",
      "source": [
        "AB = np.vstack((np.hstack((C1, C2)),\n",
        "                np.hstack((C3, C4))))\n",
        "\n",
        "AB"
      ],
      "metadata": {
        "colab": {
          "base_uri": "https://localhost:8080/"
        },
        "id": "b8rnZmpTG77r",
        "outputId": "92dcd1ad-470f-4c03-d894-3961a6e4fba4"
      },
      "execution_count": 13,
      "outputs": [
        {
          "output_type": "execute_result",
          "data": {
            "text/plain": [
              "array([[ 33.5,  34. ,  34.5,  35. ],\n",
              "       [ 59.9,  60.8,  61.7,  62.6],\n",
              "       [ 86.3,  87.6,  88.9,  90.2],\n",
              "       [112.7, 114.4, 116.1, 117.8]])"
            ]
          },
          "metadata": {},
          "execution_count": 13
        }
      ]
    }
  ]
}